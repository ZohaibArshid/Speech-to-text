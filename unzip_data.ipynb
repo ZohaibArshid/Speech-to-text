{
 "cells": [
  {
   "cell_type": "code",
   "execution_count": 3,
   "id": "4de427f8",
   "metadata": {},
   "outputs": [],
   "source": [
    "import os\n",
    "import zipfile\n",
    "import patoolib\n",
    "\n",
    "def extract_zip(input_path, output_folder):\n",
    "    with os.scandir(input_path) as entries:\n",
    "        for entry in entries:\n",
    "            if entry.is_file() and entry.name.endswith('.zip'):\n",
    "                folder_name = os.path.splitext(entry.name)[0]  # Remove the .zip extension\n",
    "                extract_path = os.path.join(output_folder, folder_name)\n",
    "                \n",
    "                with zipfile.ZipFile(entry.path, 'r') as zip_ref:\n",
    "                    zip_ref.extractall(extract_path)\n",
    "                \n",
    "                print(f\"Extracted {entry.name} to {extract_path}\")\n",
    "\n",
    "def extract_rar(input_path, output_folder):\n",
    "    with os.scandir(input_path) as entries:\n",
    "        for entry in entries:\n",
    "            if entry.is_file() and entry.name.endswith('.rar'):\n",
    "                folder_name = os.path.splitext(entry.name)[0]  # Remove the .rar extension\n",
    "                extract_path = os.path.join(output_folder, folder_name)\n",
    "\n",
    "                patoolib.extract_archive(entry.path, outdir=extract_path)\n",
    "                \n",
    "                print(f\"Extracted {entry.name} to {extract_path}\")\n",
    "\n",
    "\n"
   ]
  },
  {
   "cell_type": "code",
   "execution_count": 6,
   "id": "5d5d3b2d",
   "metadata": {},
   "outputs": [
    {
     "name": "stdout",
     "output_type": "stream",
     "text": [
      "Extracted 'Was offered USD 5 billion by Bill Clinton not to conduct nuclear tests'- Nawaz Sharif.zip to D:\\Forbmax User Data\\waqar sahi\\Dataset\\WhisperCustomDataset\\'Was offered USD 5 billion by Bill Clinton not to conduct nuclear tests'- Nawaz Sharif\n",
      "Extracted Aitzaz Ahsan Big Reveal About Nawaz Sharif Return - Dunya News.zip to D:\\Forbmax User Data\\waqar sahi\\Dataset\\WhisperCustomDataset\\Aitzaz Ahsan Big Reveal About Nawaz Sharif Return - Dunya News\n",
      "Extracted Ali Muhammad Khan Big Revelation.zip to D:\\Forbmax User Data\\waqar sahi\\Dataset\\WhisperCustomDataset\\Ali Muhammad Khan Big Revelation\n",
      "Extracted Ali Muhammad Khan Big.zip to D:\\Forbmax User Data\\waqar sahi\\Dataset\\WhisperCustomDataset\\Ali Muhammad Khan Big\n",
      "Extracted Ali Muhammad Khan's Shocking Statement During Speech in Lahore - Big News - Capital Tv_2.zip to D:\\Forbmax User Data\\waqar sahi\\Dataset\\WhisperCustomDataset\\Ali Muhammad Khan's Shocking Statement During Speech in Lahore - Big News - Capital Tv_2\n",
      "Extracted Ali Muhammad Khans Big Statement.zip to D:\\Forbmax User Data\\waqar sahi\\Dataset\\WhisperCustomDataset\\Ali Muhammad Khans Big Statement\n",
      "Extracted Ali Muhammad Khans Broke the Silence  Breaking News  Capital Tv.zip to D:\\Forbmax User Data\\waqar sahi\\Dataset\\WhisperCustomDataset\\Ali Muhammad Khans Broke the Silence  Breaking News  Capital Tv\n",
      "Extracted Another Victory!! Nawaz Sharif Change the Game - Dunya News.zip to D:\\Forbmax User Data\\waqar sahi\\Dataset\\WhisperCustomDataset\\Another Victory!! Nawaz Sharif Change the Game - Dunya News\n",
      "Extracted Anwar ul Haq Kakar  Caretaker Prime Minister.zip to D:\\Forbmax User Data\\waqar sahi\\Dataset\\WhisperCustomDataset\\Anwar ul Haq Kakar  Caretaker Prime Minister\n",
      "Extracted Asif Ali Zardari Big Announcement regarding Elections - Capital TV.zip to D:\\Forbmax User Data\\waqar sahi\\Dataset\\WhisperCustomDataset\\Asif Ali Zardari Big Announcement regarding Elections - Capital TV\n",
      "Extracted Asif Ali Zardari Secret Meeting - Breaking News.zip to D:\\Forbmax User Data\\waqar sahi\\Dataset\\WhisperCustomDataset\\Asif Ali Zardari Secret Meeting - Breaking News\n",
      "Extracted Bap Party Joined the PMLN  Faisal Karim Kundi  Dawn News.zip to D:\\Forbmax User Data\\waqar sahi\\Dataset\\WhisperCustomDataset\\Bap Party Joined the PMLN  Faisal Karim Kundi  Dawn News\n",
      "Extracted Big Announcement By PM Shahbaz Sharif - Dunya News.zip to D:\\Forbmax User Data\\waqar sahi\\Dataset\\WhisperCustomDataset\\Big Announcement By PM Shahbaz Sharif - Dunya News\n",
      "Extracted Big conspiracy.zip to D:\\Forbmax User Data\\waqar sahi\\Dataset\\WhisperCustomDataset\\Big conspiracy\n",
      "Extracted Big Decision From Court  Shah Mehmood Qureshi Arrest Update  Capital TV.zip to D:\\Forbmax User Data\\waqar sahi\\Dataset\\WhisperCustomDataset\\Big Decision From Court  Shah Mehmood Qureshi Arrest Update  Capital TV\n",
      "Extracted Big News Came From Islamabad High Court About.zip to D:\\Forbmax User Data\\waqar sahi\\Dataset\\WhisperCustomDataset\\Big News Came From Islamabad High Court About\n",
      "Extracted Billo Rani .... Sheikh Rasheed Grills Bilawal Bhutto in His Speech - Feb 2023 - Neo News.zip to D:\\Forbmax User Data\\waqar sahi\\Dataset\\WhisperCustomDataset\\Billo Rani .... Sheikh Rasheed Grills Bilawal Bhutto in His Speech - Feb 2023 - Neo News\n",
      "Extracted Breaking News Blast in Sirajul Haqs Rally  Dawn News.zip to D:\\Forbmax User Data\\waqar sahi\\Dataset\\WhisperCustomDataset\\Breaking News Blast in Sirajul Haqs Rally  Dawn News\n",
      "Extracted Breaking News Good News for PMLN  Two More CMs Join Nawaz Sharif  Samaa TV.zip to D:\\Forbmax User Data\\waqar sahi\\Dataset\\WhisperCustomDataset\\Breaking News Good News for PMLN  Two More CMs Join Nawaz Sharif  Samaa TV\n",
      "Extracted Breaking News Nawaz Sharif Big Decision About Ch Nisar  Dunya News.zip to D:\\Forbmax User Data\\waqar sahi\\Dataset\\WhisperCustomDataset\\Breaking News Nawaz Sharif Big Decision About Ch Nisar  Dunya News\n",
      "Extracted Breaking News Police Murad Saeed Ko Giraftar Karne Pahunch Gai  Samaa TV.zip to D:\\Forbmax User Data\\waqar sahi\\Dataset\\WhisperCustomDataset\\Breaking News Police Murad Saeed Ko Giraftar Karne Pahunch Gai  Samaa TV\n",
      "Extracted Breaking News! Imran Khan's Bail - Court Big Decision - SAMAA TV.zip to D:\\Forbmax User Data\\waqar sahi\\Dataset\\WhisperCustomDataset\\Breaking News! Imran Khan's Bail - Court Big Decision - SAMAA TV\n",
      "Extracted Breaking News! Nawaz Sharif In Action  SAMAA TV.zip to D:\\Forbmax User Data\\waqar sahi\\Dataset\\WhisperCustomDataset\\Breaking News! Nawaz Sharif In Action  SAMAA TV\n",
      "Extracted Breaking News- An explosion near.zip to D:\\Forbmax User Data\\waqar sahi\\Dataset\\WhisperCustomDataset\\Breaking News- An explosion near\n",
      "Extracted Breaking News- Big Decision at 2pm.zip to D:\\Forbmax User Data\\waqar sahi\\Dataset\\WhisperCustomDataset\\Breaking News- Big Decision at 2pm\n",
      "Extracted Breaking! Nawaz Sharif Ke Khawab Chakna Chor  SAMAA TV.zip to D:\\Forbmax User Data\\waqar sahi\\Dataset\\WhisperCustomDataset\\Breaking! Nawaz Sharif Ke Khawab Chakna Chor  SAMAA TV\n",
      "Extracted BREAKING- Bilawal Bhutto Zardari visits Palestine Embassy - Samaa TV.zip to D:\\Forbmax User Data\\waqar sahi\\Dataset\\WhisperCustomDataset\\BREAKING- Bilawal Bhutto Zardari visits Palestine Embassy - Samaa TV\n",
      "Extracted Caretaker PM Anwar ul Haq Kakar terms inflated bills 'non-issue' - Geo News.zip to D:\\Forbmax User Data\\waqar sahi\\Dataset\\WhisperCustomDataset\\Caretaker PM Anwar ul Haq Kakar terms inflated bills 'non-issue' - Geo News\n",
      "Extracted Caretaker PM Anwar-ul-Haq Kakar Ka UN Ijlas Mai Aham Bayan -  Breaking News - Dawn News.zip to D:\\Forbmax User Data\\waqar sahi\\Dataset\\WhisperCustomDataset\\Caretaker PM Anwar-ul-Haq Kakar Ka UN Ijlas Mai Aham Bayan -  Breaking News - Dawn News\n",
      "Extracted Caretaker Prime Minister First Big Order  SAMAA TV.zip to D:\\Forbmax User Data\\waqar sahi\\Dataset\\WhisperCustomDataset\\Caretaker Prime Minister First Big Order  SAMAA TV\n",
      "Extracted Caretaker Setup is Going to End- Chief Justice Made Big Questions - Breaking News - Capital TV.zip to D:\\Forbmax User Data\\waqar sahi\\Dataset\\WhisperCustomDataset\\Caretaker Setup is Going to End- Chief Justice Made Big Questions - Breaking News - Capital TV\n",
      "Extracted Chairman PTI Ke Baad Nawaz Sharif Bhi Mushkil Mein  Dunya Kamran Khan Kay Sath.zip to D:\\Forbmax User Data\\waqar sahi\\Dataset\\WhisperCustomDataset\\Chairman PTI Ke Baad Nawaz Sharif Bhi Mushkil Mein  Dunya Kamran Khan Kay Sath\n",
      "Extracted Dil karta hai keh don Kapain tang rahi hain Maryam (1).zip to D:\\Forbmax User Data\\waqar sahi\\Dataset\\WhisperCustomDataset\\Dil karta hai keh don Kapain tang rahi hain Maryam (1)\n",
      "Extracted Dunya News Headlines 1100 PM  Big Upheaval On The Political Landscape!  06 Nov 2023.zip to D:\\Forbmax User Data\\waqar sahi\\Dataset\\WhisperCustomDataset\\Dunya News Headlines 1100 PM  Big Upheaval On The Political Landscape!  06 Nov 2023\n",
      "Extracted Dunya News Headlines 1100 PM  New Plan Ready  07 Nov 2023.zip to D:\\Forbmax User Data\\waqar sahi\\Dataset\\WhisperCustomDataset\\Dunya News Headlines 1100 PM  New Plan Ready  07 Nov 2023\n",
      "Extracted Dunya News-Hamza Shahbaz visits families of Shahdara manhole victims.zip to D:\\Forbmax User Data\\waqar sahi\\Dataset\\WhisperCustomDataset\\Dunya News-Hamza Shahbaz visits families of Shahdara manhole victims\n",
      "Extracted Exchange Rate Ki Kaya Palat Gai!!  Dollar Price  Kamran Khan Vlog  Dunya News.zip to D:\\Forbmax User Data\\waqar sahi\\Dataset\\WhisperCustomDataset\\Exchange Rate Ki Kaya Palat Gai!!  Dollar Price  Kamran Khan Vlog  Dunya News\n",
      "Extracted EXCLUSIVE Analysis Irshad Bhattis Shares His Poetry For Nawaz Sharif  Minar e Pakistan Jalsa.zip to D:\\Forbmax User Data\\waqar sahi\\Dataset\\WhisperCustomDataset\\EXCLUSIVE Analysis Irshad Bhattis Shares His Poetry For Nawaz Sharif  Minar e Pakistan Jalsa\n",
      "Extracted Exclusive Every Political Party Has To Work Hard!  Dunya News.zip to D:\\Forbmax User Data\\waqar sahi\\Dataset\\WhisperCustomDataset\\Exclusive Every Political Party Has To Work Hard!  Dunya News\n",
      "Extracted Explanation by Shahid Khaqan Abbasi - Geo News.zip to D:\\Forbmax User Data\\waqar sahi\\Dataset\\WhisperCustomDataset\\Explanation by Shahid Khaqan Abbasi - Geo News\n",
      "Extracted Fazal ur Rehman Reached Qatar For Aid Palestine  Gaza Under Attack  Breaking News.zip to D:\\Forbmax User Data\\waqar sahi\\Dataset\\WhisperCustomDataset\\Fazal ur Rehman Reached Qatar For Aid Palestine  Gaza Under Attack  Breaking News\n"
     ]
    },
    {
     "name": "stdout",
     "output_type": "stream",
     "text": [
      "Extracted Former CM Punjab Hamza Shahbaz Special Message From London.zip to D:\\Forbmax User Data\\waqar sahi\\Dataset\\WhisperCustomDataset\\Former CM Punjab Hamza Shahbaz Special Message From London\n",
      "Extracted Funny Sheikh Rasheed Makes Imran Khan LOL.zip to D:\\Forbmax User Data\\waqar sahi\\Dataset\\WhisperCustomDataset\\Funny Sheikh Rasheed Makes Imran Khan LOL\n",
      "Extracted Geo Headlines Today 9 AM - Professor Shahida Kazi passes away - 29th October 2023.zip to D:\\Forbmax User Data\\waqar sahi\\Dataset\\WhisperCustomDataset\\Geo Headlines Today 9 AM - Professor Shahida Kazi passes away - 29th October 2023\n",
      "Extracted Geo News Headlines 8 PM - 𝐏𝐓𝐈 & 𝐉𝐔𝐈-𝐅 - 26 Oct 2023.zip to D:\\Forbmax User Data\\waqar sahi\\Dataset\\WhisperCustomDataset\\Geo News Headlines 8 PM - 𝐏𝐓𝐈 & 𝐉𝐔𝐈-𝐅 - 26 Oct 2023\n",
      "Extracted Good News For Imran Khan - Cipher Case Update From Adiala Jail - Breaking News.zip to D:\\Forbmax User Data\\waqar sahi\\Dataset\\WhisperCustomDataset\\Good News For Imran Khan - Cipher Case Update From Adiala Jail - Breaking News\n",
      "Extracted Good News For Shehbaz Sharif And Hamza Shehbaz Sharif - Breaking News.zip to D:\\Forbmax User Data\\waqar sahi\\Dataset\\WhisperCustomDataset\\Good News For Shehbaz Sharif And Hamza Shehbaz Sharif - Breaking News\n",
      "Extracted Hamas also started targeting Israeli F-16 planes - Geo News.zip to D:\\Forbmax User Data\\waqar sahi\\Dataset\\WhisperCustomDataset\\Hamas also started targeting Israeli F-16 planes - Geo News\n",
      "Extracted Hamid Khan's Important statement regarding PTI Chairman - Geo News.zip to D:\\Forbmax User Data\\waqar sahi\\Dataset\\WhisperCustomDataset\\Hamid Khan's Important statement regarding PTI Chairman - Geo News\n",
      "Extracted Hamid Mir Raised Important Questions on Nawaz Sharif's Speech - Capital Tv.zip to D:\\Forbmax User Data\\waqar sahi\\Dataset\\WhisperCustomDataset\\Hamid Mir Raised Important Questions on Nawaz Sharif's Speech - Capital Tv\n",
      "Extracted Hamid Mir Reveals Imran Khan Plan regarding Elections  Capital TV.zip to D:\\Forbmax User Data\\waqar sahi\\Dataset\\WhisperCustomDataset\\Hamid Mir Reveals Imran Khan Plan regarding Elections  Capital TV\n",
      "Extracted Hamid Mirs Game-Changing Revelation 2023.zip to D:\\Forbmax User Data\\waqar sahi\\Dataset\\WhisperCustomDataset\\Hamid Mirs Game-Changing Revelation 2023\n",
      "Extracted Hamza Shahbaz A Journey From.zip to D:\\Forbmax User Data\\waqar sahi\\Dataset\\WhisperCustomDataset\\Hamza Shahbaz A Journey From\n",
      "Extracted Hamza Shahbaz ka Pakistan Tonight mai Khususi Interview..!.zip to D:\\Forbmax User Data\\waqar sahi\\Dataset\\WhisperCustomDataset\\Hamza Shahbaz ka Pakistan Tonight mai Khususi Interview..!\n",
      "Extracted Hamza Shahbaz's exclusive interview with Aaj Shahzaib Khanzada kay Sath.zip to D:\\Forbmax User Data\\waqar sahi\\Dataset\\WhisperCustomDataset\\Hamza Shahbaz's exclusive interview with Aaj Shahzaib Khanzada kay Sath\n",
      "Extracted Hareem Shah Another Surprise  Pakistan Politician.zip to D:\\Forbmax User Data\\waqar sahi\\Dataset\\WhisperCustomDataset\\Hareem Shah Another Surprise  Pakistan Politician\n",
      "Extracted Hello.zip to D:\\Forbmax User Data\\waqar sahi\\Dataset\\WhisperCustomDataset\\Hello\n",
      "Extracted Hezbollah claims hitting Israeli military site with missiles.zip to D:\\Forbmax User Data\\waqar sahi\\Dataset\\WhisperCustomDataset\\Hezbollah claims hitting Israeli military site with missiles\n",
      "Extracted Historic Moments in PPP Jalsa (1).zip to D:\\Forbmax User Data\\waqar sahi\\Dataset\\WhisperCustomDataset\\Historic Moments in PPP Jalsa (1)\n",
      "Extracted ICC World Cup 2023- Abdullah Shafique confident about Pakistan qualifying for semis.zip to D:\\Forbmax User Data\\waqar sahi\\Dataset\\WhisperCustomDataset\\ICC World Cup 2023- Abdullah Shafique confident about Pakistan qualifying for semis\n",
      "Extracted Important Decision Of Nawaz Sharif  Dunya News Headlines 0400 AM  06 Nov 2023.zip to D:\\Forbmax User Data\\waqar sahi\\Dataset\\WhisperCustomDataset\\Important Decision Of Nawaz Sharif  Dunya News Headlines 0400 AM  06 Nov 2023\n",
      "Extracted imran khan fard juram.zip to D:\\Forbmax User Data\\waqar sahi\\Dataset\\WhisperCustomDataset\\imran khan fard juram\n",
      "Extracted Imran Khan Gives a Big Shock To All.zip to D:\\Forbmax User Data\\waqar sahi\\Dataset\\WhisperCustomDataset\\Imran Khan Gives a Big Shock To All\n",
      "Extracted Imran Khan will never make a.zip to D:\\Forbmax User Data\\waqar sahi\\Dataset\\WhisperCustomDataset\\Imran Khan will never make a\n",
      "Extracted Imran Khans Bail From Supreme.zip to D:\\Forbmax User Data\\waqar sahi\\Dataset\\WhisperCustomDataset\\Imran Khans Bail From Supreme\n",
      "Extracted Israel is Americas Dog! Great Statement of Maulana Fazlur Rehman.zip to D:\\Forbmax User Data\\waqar sahi\\Dataset\\WhisperCustomDataset\\Israel is Americas Dog! Great Statement of Maulana Fazlur Rehman\n",
      "Extracted Israeli Air Strike Hits Gaza Church.zip to D:\\Forbmax User Data\\waqar sahi\\Dataset\\WhisperCustomDataset\\Israeli Air Strike Hits Gaza Church\n",
      "Extracted Israeli Military Failure at gaza.zip to D:\\Forbmax User Data\\waqar sahi\\Dataset\\WhisperCustomDataset\\Israeli Military Failure at gaza\n",
      "Extracted Israeli–Palestinian conflict - War Room - Israel is ready to attack - Geo News.zip to D:\\Forbmax User Data\\waqar sahi\\Dataset\\WhisperCustomDataset\\Israeli–Palestinian conflict - War Room - Israel is ready to attack - Geo News\n",
      "Extracted Jamaat.zip to D:\\Forbmax User Data\\waqar sahi\\Dataset\\WhisperCustomDataset\\Jamaat\n",
      "Extracted Kamran Khan Great Analysis On Petrol Price Hike  Dunya Kamran Khan Kay Sath.zip to D:\\Forbmax User Data\\waqar sahi\\Dataset\\WhisperCustomDataset\\Kamran Khan Great Analysis On Petrol Price Hike  Dunya Kamran Khan Kay Sath\n",
      "Extracted Kamran Khans Reaction on Supreme Court Verdict  NAB Amendments Case  Capital TV.zip to D:\\Forbmax User Data\\waqar sahi\\Dataset\\WhisperCustomDataset\\Kamran Khans Reaction on Supreme Court Verdict  NAB Amendments Case  Capital TV\n",
      "Extracted khan sab.zip to D:\\Forbmax User Data\\waqar sahi\\Dataset\\WhisperCustomDataset\\khan sab\n",
      "Extracted Latest Situation of PMLN Jalsa After Nawaz Sharif Speech Breaking News Samaa TV.zip to D:\\Forbmax User Data\\waqar sahi\\Dataset\\WhisperCustomDataset\\Latest Situation of PMLN Jalsa After Nawaz Sharif Speech Breaking News Samaa TV\n",
      "Extracted Light went out during Imran Khan's speech - Capital TV.zip to D:\\Forbmax User Data\\waqar sahi\\Dataset\\WhisperCustomDataset\\Light went out during Imran Khan's speech - Capital TV\n",
      "Extracted LIVE  Chairman Imran Khans Pre Recorded Message for 14th August on.zip to D:\\Forbmax User Data\\waqar sahi\\Dataset\\WhisperCustomDataset\\LIVE  Chairman Imran Khans Pre Recorded Message for 14th August on\n",
      "Extracted Live_video.zip to D:\\Forbmax User Data\\waqar sahi\\Dataset\\WhisperCustomDataset\\Live_video\n",
      "Extracted Logon Ki Bari Tadad Nawaz Sharif Ki Kamyabi Ki Waja Bani Dunya News.zip to D:\\Forbmax User Data\\waqar sahi\\Dataset\\WhisperCustomDataset\\Logon Ki Bari Tadad Nawaz Sharif Ki Kamyabi Ki Waja Bani Dunya News\n",
      "Extracted Mansoor Ali Khan gave big news about PTIs election plan  Capital TV.zip to D:\\Forbmax User Data\\waqar sahi\\Dataset\\WhisperCustomDataset\\Mansoor Ali Khan gave big news about PTIs election plan  Capital TV\n",
      "Extracted Mansoor Ali Khan Shocking Revelations about PMLN Show at Minar e Pakistan - Capital TV.zip to D:\\Forbmax User Data\\waqar sahi\\Dataset\\WhisperCustomDataset\\Mansoor Ali Khan Shocking Revelations about PMLN Show at Minar e Pakistan - Capital TV\n",
      "Extracted Mansoor Ali Khan Shocking Revelations about PMLN Show at Minar e Pakistan.zip to D:\\Forbmax User Data\\waqar sahi\\Dataset\\WhisperCustomDataset\\Mansoor Ali Khan Shocking Revelations about PMLN Show at Minar e Pakistan\n",
      "Extracted Maryam Nawaz and Hamza Shahbaz on Stage Together and Saying Historic Remarks  Dunya News.zip to D:\\Forbmax User Data\\waqar sahi\\Dataset\\WhisperCustomDataset\\Maryam Nawaz and Hamza Shahbaz on Stage Together and Saying Historic Remarks  Dunya News\n",
      "Extracted Maryam Nawaz big Statement after Imran Khan Arrest - SAMAA TV.zip to D:\\Forbmax User Data\\waqar sahi\\Dataset\\WhisperCustomDataset\\Maryam Nawaz big Statement after Imran Khan Arrest - SAMAA TV\n",
      "Extracted Maryam Nawaz Ne Imran Khan Ko Phir Naye Name Se Nawaz Diya  Dunya News.zip to D:\\Forbmax User Data\\waqar sahi\\Dataset\\WhisperCustomDataset\\Maryam Nawaz Ne Imran Khan Ko Phir Naye Name Se Nawaz Diya  Dunya News\n",
      "Extracted Matters of PMLN and PPP  Qamar Zaman Kaira  Dawn News.zip to D:\\Forbmax User Data\\waqar sahi\\Dataset\\WhisperCustomDataset\\Matters of PMLN and PPP  Qamar Zaman Kaira  Dawn News\n",
      "Extracted Maulana Fazal-ur-Rehman  Big Announcement - JUI Workers convention May Dhamaka - Breaking News.zip to D:\\Forbmax User Data\\waqar sahi\\Dataset\\WhisperCustomDataset\\Maulana Fazal-ur-Rehman  Big Announcement - JUI Workers convention May Dhamaka - Breaking News\n"
     ]
    },
    {
     "name": "stdout",
     "output_type": "stream",
     "text": [
      "Extracted Maulana Fazal-ur-Rehman Calls for War in his Karachi Jalsa  Dawn News.zip to D:\\Forbmax User Data\\waqar sahi\\Dataset\\WhisperCustomDataset\\Maulana Fazal-ur-Rehman Calls for War in his Karachi Jalsa  Dawn News\n",
      "Extracted Maulana Fazl ur Rehman Sahab Kis Say Naraz Hain- - Kamran Murtaza - Dawn News.zip to D:\\Forbmax User Data\\waqar sahi\\Dataset\\WhisperCustomDataset\\Maulana Fazl ur Rehman Sahab Kis Say Naraz Hain- - Kamran Murtaza - Dawn News\n",
      "Extracted Middle East Conflict Maulana Fazlur Rehman Takes Big Step  Breaking News.zip to D:\\Forbmax User Data\\waqar sahi\\Dataset\\WhisperCustomDataset\\Middle East Conflict Maulana Fazlur Rehman Takes Big Step  Breaking News\n",
      "Extracted MQM Leader Mustafa Kamal Huge Statement   Dunya News.zip to D:\\Forbmax User Data\\waqar sahi\\Dataset\\WhisperCustomDataset\\MQM Leader Mustafa Kamal Huge Statement   Dunya News\n",
      "Extracted Multan ki anokhi shadi 6 behnen 6 bhaiyon ke saath.zip to D:\\Forbmax User Data\\waqar sahi\\Dataset\\WhisperCustomDataset\\Multan ki anokhi shadi 6 behnen 6 bhaiyon ke saath\n",
      "Extracted Murad Ali Shah Vs  Mustafa Kamal.zip to D:\\Forbmax User Data\\waqar sahi\\Dataset\\WhisperCustomDataset\\Murad Ali Shah Vs  Mustafa Kamal\n",
      "Extracted Murad Saeed Reads Funny Poetry for Bilawal Bhutto in Parliament!.zip to D:\\Forbmax User Data\\waqar sahi\\Dataset\\WhisperCustomDataset\\Murad Saeed Reads Funny Poetry for Bilawal Bhutto in Parliament!\n",
      "Extracted Must Watch! Maryam Nawaz Exclusive Talk With SAMAA TV.zip to D:\\Forbmax User Data\\waqar sahi\\Dataset\\WhisperCustomDataset\\Must Watch! Maryam Nawaz Exclusive Talk With SAMAA TV\n",
      "Extracted Mustafa Kamal Admitted his Crime  Capital TV.zip to D:\\Forbmax User Data\\waqar sahi\\Dataset\\WhisperCustomDataset\\Mustafa Kamal Admitted his Crime  Capital TV\n",
      "Extracted Mustafa Kamal Ka Elaan - Breaking News - Dawn News.zip to D:\\Forbmax User Data\\waqar sahi\\Dataset\\WhisperCustomDataset\\Mustafa Kamal Ka Elaan - Breaking News - Dawn News\n",
      "Extracted Nawaz Sharif Ka Dabang Bayan  Breaking News  Dunya News.zip to D:\\Forbmax User Data\\waqar sahi\\Dataset\\WhisperCustomDataset\\Nawaz Sharif Ka Dabang Bayan  Breaking News  Dunya News\n",
      "Extracted Nawaz Sharif Ka Dabang Bayan.zip to D:\\Forbmax User Data\\waqar sahi\\Dataset\\WhisperCustomDataset\\Nawaz Sharif Ka Dabang Bayan\n",
      "Extracted Nawaz Sharif Ko jai.zip to D:\\Forbmax User Data\\waqar sahi\\Dataset\\WhisperCustomDataset\\Nawaz Sharif Ko jai\n",
      "Extracted Nawaz Sharif Leaves For Murree from Jati Umra - Breaking News - Dawn News.zip to D:\\Forbmax User Data\\waqar sahi\\Dataset\\WhisperCustomDataset\\Nawaz Sharif Leaves For Murree from Jati Umra - Breaking News - Dawn News\n",
      "Extracted Nawaz Sharif Reached Saudi Arabia From London  Latest Updates  Dunya News.zip to D:\\Forbmax User Data\\waqar sahi\\Dataset\\WhisperCustomDataset\\Nawaz Sharif Reached Saudi Arabia From London  Latest Updates  Dunya News\n",
      "Extracted Nawaz Sharif Return to Pakistan PML N got permission to hold Minar Pakistan rally  Dunya News.zip to D:\\Forbmax User Data\\waqar sahi\\Dataset\\WhisperCustomDataset\\Nawaz Sharif Return to Pakistan PML N got permission to hold Minar Pakistan rally  Dunya News\n",
      "Extracted Nawaz Sharif Takes Important Decision Breaking News SAMAA TV.zip to D:\\Forbmax User Data\\waqar sahi\\Dataset\\WhisperCustomDataset\\Nawaz Sharif Takes Important Decision Breaking News SAMAA TV\n",
      "Extracted No crisis in Pakistan, says Interim PM Anwar ul Haq Kakar.zip to D:\\Forbmax User Data\\waqar sahi\\Dataset\\WhisperCustomDataset\\No crisis in Pakistan, says Interim PM Anwar ul Haq Kakar\n",
      "Extracted No Press Conference or.zip to D:\\Forbmax User Data\\waqar sahi\\Dataset\\WhisperCustomDataset\\No Press Conference or\n",
      "Extracted NRO For Imran Khan - Maulana Fazal Ur Rehman Made a Big Statement - Breaking News - Capital TV.zip to D:\\Forbmax User Data\\waqar sahi\\Dataset\\WhisperCustomDataset\\NRO For Imran Khan - Maulana Fazal Ur Rehman Made a Big Statement - Breaking News - Capital TV\n",
      "Extracted Pakistan enhances 'strategic stability' with successful.zip to D:\\Forbmax User Data\\waqar sahi\\Dataset\\WhisperCustomDataset\\Pakistan enhances 'strategic stability' with successful\n",
      "Extracted Pakistan Ka Kirdar Kya- - Khalid al Qaddoumi - Israel, Palestine Latest Update - Dawn News.zip to D:\\Forbmax User Data\\waqar sahi\\Dataset\\WhisperCustomDataset\\Pakistan Ka Kirdar Kya- - Khalid al Qaddoumi - Israel, Palestine Latest Update - Dawn News\n",
      "Extracted Palestine Calling Imran Khan Aleema Khan Emotional Interview - Palestine - Imran Khan.zip to D:\\Forbmax User Data\\waqar sahi\\Dataset\\WhisperCustomDataset\\Palestine Calling Imran Khan Aleema Khan Emotional Interview - Palestine - Imran Khan\n",
      "Extracted People Surrounded Shahbaz Sharif Car.zip to D:\\Forbmax User Data\\waqar sahi\\Dataset\\WhisperCustomDataset\\People Surrounded Shahbaz Sharif Car\n",
      "Extracted PM Imran Khan Laughs Hard at Sheikh Rasheed Jokes.zip to D:\\Forbmax User Data\\waqar sahi\\Dataset\\WhisperCustomDataset\\PM Imran Khan Laughs Hard at Sheikh Rasheed Jokes\n",
      "Extracted PML-N's Shahid Khaqan Abbasi 'resigns' as ECC member over LNG purchase from Azerbaijan.zip to D:\\Forbmax User Data\\waqar sahi\\Dataset\\WhisperCustomDataset\\PML-N's Shahid Khaqan Abbasi 'resigns' as ECC member over LNG purchase from Azerbaijan\n",
      "Extracted Political Situation - Asif Ali Zardari In Action - Breaking News.zip to D:\\Forbmax User Data\\waqar sahi\\Dataset\\WhisperCustomDataset\\Political Situation - Asif Ali Zardari In Action - Breaking News\n",
      "Extracted PPP Leader Sahla Raza Huge Statement About Elections  Dunya News.zip to D:\\Forbmax User Data\\waqar sahi\\Dataset\\WhisperCustomDataset\\PPP Leader Sahla Raza Huge Statement About Elections  Dunya News\n",
      "Extracted PPP Ready For Big Surprise   Abdul Qadir Baloch Revelations  Breaking News.zip to D:\\Forbmax User Data\\waqar sahi\\Dataset\\WhisperCustomDataset\\PPP Ready For Big Surprise   Abdul Qadir Baloch Revelations  Breaking News\n",
      "Extracted Prediction By Dr Israr Ahmed About Pakistani Politicians.zip to D:\\Forbmax User Data\\waqar sahi\\Dataset\\WhisperCustomDataset\\Prediction By Dr Israr Ahmed About Pakistani Politicians\n",
      "Extracted President Arif Alvis Tweet Issue  Senior.zip to D:\\Forbmax User Data\\waqar sahi\\Dataset\\WhisperCustomDataset\\President Arif Alvis Tweet Issue  Senior\n",
      "Extracted Prime Minister Shahbaz Sharif is unwell - Geo News.zip to D:\\Forbmax User Data\\waqar sahi\\Dataset\\WhisperCustomDataset\\Prime Minister Shahbaz Sharif is unwell - Geo News\n",
      "Extracted Prime Minister Shahbaz Sharif's Big Statement - Dunya News.zip to D:\\Forbmax User Data\\waqar sahi\\Dataset\\WhisperCustomDataset\\Prime Minister Shahbaz Sharif's Big Statement - Dunya News\n",
      "Extracted Promise to make Bilawal Bhutto Prime Minister  Big News by Ch Ghulam Hussain (1).zip to D:\\Forbmax User Data\\waqar sahi\\Dataset\\WhisperCustomDataset\\Promise to make Bilawal Bhutto Prime Minister  Big News by Ch Ghulam Hussain (1)\n",
      "Extracted PTI Leader Zulfi Bukhari Made.zip to D:\\Forbmax User Data\\waqar sahi\\Dataset\\WhisperCustomDataset\\PTI Leader Zulfi Bukhari Made\n",
      "Extracted PTI's Request To President Arif Alvi.zip to D:\\Forbmax User Data\\waqar sahi\\Dataset\\WhisperCustomDataset\\PTI's Request To President Arif Alvi\n",
      "Extracted Relief for Imran Khan & Mahmood Khan - Election Commission - Breaking News - Dawn News.zip to D:\\Forbmax User Data\\waqar sahi\\Dataset\\WhisperCustomDataset\\Relief for Imran Khan & Mahmood Khan - Election Commission - Breaking News - Dawn News\n",
      "Extracted Rift Between Imran Khan and General Faiz.zip to D:\\Forbmax User Data\\waqar sahi\\Dataset\\WhisperCustomDataset\\Rift Between Imran Khan and General Faiz\n",
      "Extracted Saira Banu Asked a Shocking Question To Nawaz Sharif.zip to D:\\Forbmax User Data\\waqar sahi\\Dataset\\WhisperCustomDataset\\Saira Banu Asked a Shocking Question To Nawaz Sharif\n",
      "Extracted Senior Journalist Mansoor Ali Khan.zip to D:\\Forbmax User Data\\waqar sahi\\Dataset\\WhisperCustomDataset\\Senior Journalist Mansoor Ali Khan\n",
      "Extracted Shah Mehmood Qureshi is Ready.zip to D:\\Forbmax User Data\\waqar sahi\\Dataset\\WhisperCustomDataset\\Shah Mehmood Qureshi is Ready\n",
      "Extracted Shahbaz Sharif Will Be Next Prime Minister.zip to D:\\Forbmax User Data\\waqar sahi\\Dataset\\WhisperCustomDataset\\Shahbaz Sharif Will Be Next Prime Minister\n",
      "Extracted Shahid Khaqan Abbasi's Big Statement About Politics in Pakistan - Breaking News - Dawn News.zip to D:\\Forbmax User Data\\waqar sahi\\Dataset\\WhisperCustomDataset\\Shahid Khaqan Abbasi's Big Statement About Politics in Pakistan - Breaking News - Dawn News\n"
     ]
    },
    {
     "name": "stdout",
     "output_type": "stream",
     "text": [
      "Extracted Shayan Ali Releases an Important Video Regarding Nawaz Sharif Return To Pakistan - Capital TV.zip to D:\\Forbmax User Data\\waqar sahi\\Dataset\\WhisperCustomDataset\\Shayan Ali Releases an Important Video Regarding Nawaz Sharif Return To Pakistan - Capital TV\n",
      "Extracted Shayan Ali Releases an Important Video Regarding Nawaz.zip to D:\\Forbmax User Data\\waqar sahi\\Dataset\\WhisperCustomDataset\\Shayan Ali Releases an Important Video Regarding Nawaz\n",
      "Extracted Sheikh Rasheed funny statement goes viral on internet - Breaking News - Capital Tv.zip to D:\\Forbmax User Data\\waqar sahi\\Dataset\\WhisperCustomDataset\\Sheikh Rasheed funny statement goes viral on internet - Breaking News - Capital Tv\n",
      "Extracted Sheikh Rasheed Gives Big.zip to D:\\Forbmax User Data\\waqar sahi\\Dataset\\WhisperCustomDataset\\Sheikh Rasheed Gives Big\n",
      "Extracted Sheikh Rasheed Gives Shocking Message To PTI   Latest Video  Capital TV.zip to D:\\Forbmax User Data\\waqar sahi\\Dataset\\WhisperCustomDataset\\Sheikh Rasheed Gives Shocking Message To PTI   Latest Video  Capital TV\n",
      "Extracted Sheikh Rasheed Shocking Video Message.zip to D:\\Forbmax User Data\\waqar sahi\\Dataset\\WhisperCustomDataset\\Sheikh Rasheed Shocking Video Message\n",
      "Extracted Shocking News!!  Big Blow To Jamaat e Islami  Dunya News.zip to D:\\Forbmax User Data\\waqar sahi\\Dataset\\WhisperCustomDataset\\Shocking News!!  Big Blow To Jamaat e Islami  Dunya News\n",
      "Extracted Siraj ul Haq kay Qaflay per Hamla - Bilawal Bhutto Big Statement - Breaking News.zip to D:\\Forbmax User Data\\waqar sahi\\Dataset\\WhisperCustomDataset\\Siraj ul Haq kay Qaflay per Hamla - Bilawal Bhutto Big Statement - Breaking News\n",
      "Extracted song.zip to D:\\Forbmax User Data\\waqar sahi\\Dataset\\WhisperCustomDataset\\song\n",
      "Extracted South Africa send New Zealand batters packing in major win in World Cup.zip to D:\\Forbmax User Data\\waqar sahi\\Dataset\\WhisperCustomDataset\\South Africa send New Zealand batters packing in major win in World Cup\n",
      "Extracted Suspicious Activity of Two PTI's Leaders Senior Journalist Mansoor Ali Khan Shared The Names.zip to D:\\Forbmax User Data\\waqar sahi\\Dataset\\WhisperCustomDataset\\Suspicious Activity of Two PTI's Leaders Senior Journalist Mansoor Ali Khan Shared The Names\n",
      "Extracted Teaser 01  Hareem Shah Calls Sheikh Rasheed.zip to D:\\Forbmax User Data\\waqar sahi\\Dataset\\WhisperCustomDataset\\Teaser 01  Hareem Shah Calls Sheikh Rasheed\n",
      "Extracted The brutality of Israel, the bombing of hospitals.zip to D:\\Forbmax User Data\\waqar sahi\\Dataset\\WhisperCustomDataset\\The brutality of Israel, the bombing of hospitals\n",
      "Extracted US Embassy called Pakistani Politician as Political Actors in their Latest Press Release.zip to D:\\Forbmax User Data\\waqar sahi\\Dataset\\WhisperCustomDataset\\US Embassy called Pakistani Politician as Political Actors in their Latest Press Release\n",
      "Extracted War Room Gaza  Israel Gaza war Latest Situation  Israeli army failed to enter Gaza Geo News.zip to D:\\Forbmax User Data\\waqar sahi\\Dataset\\WhisperCustomDataset\\War Room Gaza  Israel Gaza war Latest Situation  Israeli army failed to enter Gaza Geo News\n",
      "Extracted War Room Gaza- Israel-Hezbollah clashes intensify - Geo News.zip to D:\\Forbmax User Data\\waqar sahi\\Dataset\\WhisperCustomDataset\\War Room Gaza- Israel-Hezbollah clashes intensify - Geo News\n",
      "Extracted War room Palestine.zip to D:\\Forbmax User Data\\waqar sahi\\Dataset\\WhisperCustomDataset\\War room Palestine\n",
      "Extracted We will Win Imran Khan Clear message from Jail.zip to D:\\Forbmax User Data\\waqar sahi\\Dataset\\WhisperCustomDataset\\We will Win Imran Khan Clear message from Jail\n",
      "Extracted What did Nawaz Sharif Say During His Speech- Jalsa Mein Halchal Mach Gayi - Dunya News.zip to D:\\Forbmax User Data\\waqar sahi\\Dataset\\WhisperCustomDataset\\What did Nawaz Sharif Say During His Speech- Jalsa Mein Halchal Mach Gayi - Dunya News\n",
      "Extracted What was going on in Maulana Fazlur Rehman's Mind- - Zahid Khan - Dawn News.zip to D:\\Forbmax User Data\\waqar sahi\\Dataset\\WhisperCustomDataset\\What was going on in Maulana Fazlur Rehman's Mind- - Zahid Khan - Dawn News\n",
      "Extracted Who banned the name of Imran Khan - PM Shahbaz Sharif Revealed Big News - Capital TV.zip to D:\\Forbmax User Data\\waqar sahi\\Dataset\\WhisperCustomDataset\\Who banned the name of Imran Khan - PM Shahbaz Sharif Revealed Big News - Capital TV\n",
      "Extracted Who Is Anwar ul Haq Kakar- - Caretaker Prime Minister Updates - Breaking News.zip to D:\\Forbmax User Data\\waqar sahi\\Dataset\\WhisperCustomDataset\\Who Is Anwar ul Haq Kakar- - Caretaker Prime Minister Updates - Breaking News\n",
      "Extracted Who threatened Anchor Mansoor Ali Khan to not on air the interview Capital TV.zip to D:\\Forbmax User Data\\waqar sahi\\Dataset\\WhisperCustomDataset\\Who threatened Anchor Mansoor Ali Khan to not on air the interview Capital TV\n",
      "Extracted Why Did Dollar Increase IMF New Condition   Dunya Kamran Khan Kay Sath.zip to D:\\Forbmax User Data\\waqar sahi\\Dataset\\WhisperCustomDataset\\Why Did Dollar Increase IMF New Condition   Dunya Kamran Khan Kay Sath\n",
      "Extracted Why Did The Electricity Bills Get-1.zip to D:\\Forbmax User Data\\waqar sahi\\Dataset\\WhisperCustomDataset\\Why Did The Electricity Bills Get-1\n",
      "Extracted Why Did The Electricity Bills Get.zip to D:\\Forbmax User Data\\waqar sahi\\Dataset\\WhisperCustomDataset\\Why Did The Electricity Bills Get\n",
      "Extracted Why Did you have to Go Maulana Fazal ur Rehman.zip to D:\\Forbmax User Data\\waqar sahi\\Dataset\\WhisperCustomDataset\\Why Did you have to Go Maulana Fazal ur Rehman\n",
      "Extracted Will challenge decision says PTI Vice Chairman Shah Mehmood.zip to D:\\Forbmax User Data\\waqar sahi\\Dataset\\WhisperCustomDataset\\Will challenge decision says PTI Vice Chairman Shah Mehmood\n",
      "Extracted Will the establishment negotiate with Imran Khan- DG ISPR's reply to journalist's question.zip to D:\\Forbmax User Data\\waqar sahi\\Dataset\\WhisperCustomDataset\\Will the establishment negotiate with Imran Khan- DG ISPR's reply to journalist's question\n",
      "Extracted World Cup 2023_Unbeaten India thump New Zealand by 4 wickets.zip to D:\\Forbmax User Data\\waqar sahi\\Dataset\\WhisperCustomDataset\\World Cup 2023_Unbeaten India thump New Zealand by 4 wickets\n",
      "Extracted Zartaj Gul also left Imran Khan   Breaking News  Capital TV.zip to D:\\Forbmax User Data\\waqar sahi\\Dataset\\WhisperCustomDataset\\Zartaj Gul also left Imran Khan   Breaking News  Capital TV\n",
      "Extracted Zartaj Gull Exclusive message for the Nation  Capital TV.zip to D:\\Forbmax User Data\\waqar sahi\\Dataset\\WhisperCustomDataset\\Zartaj Gull Exclusive message for the Nation  Capital TV\n",
      "Extracted حق کا ساتھ دو اور باطل کے خلاف کھڑے ہو!.zip to D:\\Forbmax User Data\\waqar sahi\\Dataset\\WhisperCustomDataset\\حق کا ساتھ دو اور باطل کے خلاف کھڑے ہو!\n",
      "Extracted عمران خان لیڈر dotokbaat kirannaz samaatv imrankhan O42H.zip to D:\\Forbmax User Data\\waqar sahi\\Dataset\\WhisperCustomDataset\\عمران خان لیڈر dotokbaat kirannaz samaatv imrankhan O42H\n",
      "Extracted مریم نواز کی اٹک جیل میں عمران خان سے ملاقات.zip to D:\\Forbmax User Data\\waqar sahi\\Dataset\\WhisperCustomDataset\\مریم نواز کی اٹک جیل میں عمران خان سے ملاقات\n"
     ]
    },
    {
     "name": "stderr",
     "output_type": "stream",
     "text": [
      "INFO patool: Extracting D:\\Forbmax User Data\\waqar sahi\\Dataset\\whisperCustomZip\\Geo1.rar ...\n",
      "INFO patool: ... creating output directory `D:\\Forbmax User Data\\waqar sahi\\Dataset\\WhisperCustomDataset\\Geo1'.\n",
      "INFO patool: running \"C:\\Program Files\\WinRAR\\rar.EXE\" x -- \"D:\\Forbmax User Data\\waqar sahi\\Dataset\\whisperCustomZip\\Geo1.rar\"\n",
      "INFO patool:     with cwd=\"D:\\Forbmax User Data\\waqar sahi\\Dataset\\WhisperCustomDataset\\Geo1\", creationflags=134217728, input=\n"
     ]
    },
    {
     "name": "stdout",
     "output_type": "stream",
     "text": [
      "Extracted 𝐖𝐚𝐫 𝐑𝐨𝐨𝐦 Israel big attack on Gaza from 3.zip to D:\\Forbmax User Data\\waqar sahi\\Dataset\\WhisperCustomDataset\\𝐖𝐚𝐫 𝐑𝐨𝐨𝐦 Israel big attack on Gaza from 3\n"
     ]
    },
    {
     "name": "stderr",
     "output_type": "stream",
     "text": [
      "INFO patool: ... D:\\Forbmax User Data\\waqar sahi\\Dataset\\whisperCustomZip\\Geo1.rar extracted to `D:\\Forbmax User Data\\waqar sahi\\Dataset\\WhisperCustomDataset\\Geo1'.\n",
      "INFO patool: Extracting D:\\Forbmax User Data\\waqar sahi\\Dataset\\whisperCustomZip\\Geo10.rar ...\n",
      "INFO patool: ... creating output directory `D:\\Forbmax User Data\\waqar sahi\\Dataset\\WhisperCustomDataset\\Geo10'.\n",
      "INFO patool: running \"C:\\Program Files\\WinRAR\\rar.EXE\" x -- \"D:\\Forbmax User Data\\waqar sahi\\Dataset\\whisperCustomZip\\Geo10.rar\"\n",
      "INFO patool:     with cwd=\"D:\\Forbmax User Data\\waqar sahi\\Dataset\\WhisperCustomDataset\\Geo10\", creationflags=134217728, input=\n"
     ]
    },
    {
     "name": "stdout",
     "output_type": "stream",
     "text": [
      "Extracted Geo1.rar to D:\\Forbmax User Data\\waqar sahi\\Dataset\\WhisperCustomDataset\\Geo1\n"
     ]
    },
    {
     "name": "stderr",
     "output_type": "stream",
     "text": [
      "INFO patool: ... D:\\Forbmax User Data\\waqar sahi\\Dataset\\whisperCustomZip\\Geo10.rar extracted to `D:\\Forbmax User Data\\waqar sahi\\Dataset\\WhisperCustomDataset\\Geo10'.\n",
      "INFO patool: Extracting D:\\Forbmax User Data\\waqar sahi\\Dataset\\whisperCustomZip\\Geo11.rar ...\n",
      "INFO patool: ... creating output directory `D:\\Forbmax User Data\\waqar sahi\\Dataset\\WhisperCustomDataset\\Geo11'.\n",
      "INFO patool: running \"C:\\Program Files\\WinRAR\\rar.EXE\" x -- \"D:\\Forbmax User Data\\waqar sahi\\Dataset\\whisperCustomZip\\Geo11.rar\"\n",
      "INFO patool:     with cwd=\"D:\\Forbmax User Data\\waqar sahi\\Dataset\\WhisperCustomDataset\\Geo11\", creationflags=134217728, input=\n"
     ]
    },
    {
     "name": "stdout",
     "output_type": "stream",
     "text": [
      "Extracted Geo10.rar to D:\\Forbmax User Data\\waqar sahi\\Dataset\\WhisperCustomDataset\\Geo10\n"
     ]
    },
    {
     "name": "stderr",
     "output_type": "stream",
     "text": [
      "INFO patool: ... D:\\Forbmax User Data\\waqar sahi\\Dataset\\whisperCustomZip\\Geo11.rar extracted to `D:\\Forbmax User Data\\waqar sahi\\Dataset\\WhisperCustomDataset\\Geo11'.\n",
      "INFO patool: Extracting D:\\Forbmax User Data\\waqar sahi\\Dataset\\whisperCustomZip\\Geo12.rar ...\n",
      "INFO patool: ... creating output directory `D:\\Forbmax User Data\\waqar sahi\\Dataset\\WhisperCustomDataset\\Geo12'.\n",
      "INFO patool: running \"C:\\Program Files\\WinRAR\\rar.EXE\" x -- \"D:\\Forbmax User Data\\waqar sahi\\Dataset\\whisperCustomZip\\Geo12.rar\"\n",
      "INFO patool:     with cwd=\"D:\\Forbmax User Data\\waqar sahi\\Dataset\\WhisperCustomDataset\\Geo12\", creationflags=134217728, input=\n"
     ]
    },
    {
     "name": "stdout",
     "output_type": "stream",
     "text": [
      "Extracted Geo11.rar to D:\\Forbmax User Data\\waqar sahi\\Dataset\\WhisperCustomDataset\\Geo11\n"
     ]
    },
    {
     "name": "stderr",
     "output_type": "stream",
     "text": [
      "INFO patool: ... D:\\Forbmax User Data\\waqar sahi\\Dataset\\whisperCustomZip\\Geo12.rar extracted to `D:\\Forbmax User Data\\waqar sahi\\Dataset\\WhisperCustomDataset\\Geo12'.\n",
      "INFO patool: Extracting D:\\Forbmax User Data\\waqar sahi\\Dataset\\whisperCustomZip\\Geo13.rar ...\n",
      "INFO patool: ... creating output directory `D:\\Forbmax User Data\\waqar sahi\\Dataset\\WhisperCustomDataset\\Geo13'.\n",
      "INFO patool: running \"C:\\Program Files\\WinRAR\\rar.EXE\" x -- \"D:\\Forbmax User Data\\waqar sahi\\Dataset\\whisperCustomZip\\Geo13.rar\"\n",
      "INFO patool:     with cwd=\"D:\\Forbmax User Data\\waqar sahi\\Dataset\\WhisperCustomDataset\\Geo13\", creationflags=134217728, input=\n"
     ]
    },
    {
     "name": "stdout",
     "output_type": "stream",
     "text": [
      "Extracted Geo12.rar to D:\\Forbmax User Data\\waqar sahi\\Dataset\\WhisperCustomDataset\\Geo12\n"
     ]
    },
    {
     "name": "stderr",
     "output_type": "stream",
     "text": [
      "INFO patool: ... D:\\Forbmax User Data\\waqar sahi\\Dataset\\whisperCustomZip\\Geo13.rar extracted to `D:\\Forbmax User Data\\waqar sahi\\Dataset\\WhisperCustomDataset\\Geo13'.\n",
      "INFO patool: Extracting D:\\Forbmax User Data\\waqar sahi\\Dataset\\whisperCustomZip\\Geo14.rar ...\n",
      "INFO patool: ... creating output directory `D:\\Forbmax User Data\\waqar sahi\\Dataset\\WhisperCustomDataset\\Geo14'.\n",
      "INFO patool: running \"C:\\Program Files\\WinRAR\\rar.EXE\" x -- \"D:\\Forbmax User Data\\waqar sahi\\Dataset\\whisperCustomZip\\Geo14.rar\"\n",
      "INFO patool:     with cwd=\"D:\\Forbmax User Data\\waqar sahi\\Dataset\\WhisperCustomDataset\\Geo14\", creationflags=134217728, input=\n"
     ]
    },
    {
     "name": "stdout",
     "output_type": "stream",
     "text": [
      "Extracted Geo13.rar to D:\\Forbmax User Data\\waqar sahi\\Dataset\\WhisperCustomDataset\\Geo13\n"
     ]
    },
    {
     "name": "stderr",
     "output_type": "stream",
     "text": [
      "INFO patool: ... D:\\Forbmax User Data\\waqar sahi\\Dataset\\whisperCustomZip\\Geo14.rar extracted to `D:\\Forbmax User Data\\waqar sahi\\Dataset\\WhisperCustomDataset\\Geo14'.\n",
      "INFO patool: Extracting D:\\Forbmax User Data\\waqar sahi\\Dataset\\whisperCustomZip\\Geo15.rar ...\n",
      "INFO patool: ... creating output directory `D:\\Forbmax User Data\\waqar sahi\\Dataset\\WhisperCustomDataset\\Geo15'.\n",
      "INFO patool: running \"C:\\Program Files\\WinRAR\\rar.EXE\" x -- \"D:\\Forbmax User Data\\waqar sahi\\Dataset\\whisperCustomZip\\Geo15.rar\"\n",
      "INFO patool:     with cwd=\"D:\\Forbmax User Data\\waqar sahi\\Dataset\\WhisperCustomDataset\\Geo15\", creationflags=134217728, input=\n"
     ]
    },
    {
     "name": "stdout",
     "output_type": "stream",
     "text": [
      "Extracted Geo14.rar to D:\\Forbmax User Data\\waqar sahi\\Dataset\\WhisperCustomDataset\\Geo14\n"
     ]
    },
    {
     "name": "stderr",
     "output_type": "stream",
     "text": [
      "INFO patool: ... D:\\Forbmax User Data\\waqar sahi\\Dataset\\whisperCustomZip\\Geo15.rar extracted to `D:\\Forbmax User Data\\waqar sahi\\Dataset\\WhisperCustomDataset\\Geo15'.\n",
      "INFO patool: Extracting D:\\Forbmax User Data\\waqar sahi\\Dataset\\whisperCustomZip\\Geo2.rar ...\n",
      "INFO patool: ... creating output directory `D:\\Forbmax User Data\\waqar sahi\\Dataset\\WhisperCustomDataset\\Geo2'.\n",
      "INFO patool: running \"C:\\Program Files\\WinRAR\\rar.EXE\" x -- \"D:\\Forbmax User Data\\waqar sahi\\Dataset\\whisperCustomZip\\Geo2.rar\"\n",
      "INFO patool:     with cwd=\"D:\\Forbmax User Data\\waqar sahi\\Dataset\\WhisperCustomDataset\\Geo2\", creationflags=134217728, input=\n"
     ]
    },
    {
     "name": "stdout",
     "output_type": "stream",
     "text": [
      "Extracted Geo15.rar to D:\\Forbmax User Data\\waqar sahi\\Dataset\\WhisperCustomDataset\\Geo15\n"
     ]
    },
    {
     "name": "stderr",
     "output_type": "stream",
     "text": [
      "INFO patool: ... D:\\Forbmax User Data\\waqar sahi\\Dataset\\whisperCustomZip\\Geo2.rar extracted to `D:\\Forbmax User Data\\waqar sahi\\Dataset\\WhisperCustomDataset\\Geo2'.\n",
      "INFO patool: Extracting D:\\Forbmax User Data\\waqar sahi\\Dataset\\whisperCustomZip\\Geo3.rar ...\n",
      "INFO patool: ... creating output directory `D:\\Forbmax User Data\\waqar sahi\\Dataset\\WhisperCustomDataset\\Geo3'.\n",
      "INFO patool: running \"C:\\Program Files\\WinRAR\\rar.EXE\" x -- \"D:\\Forbmax User Data\\waqar sahi\\Dataset\\whisperCustomZip\\Geo3.rar\"\n",
      "INFO patool:     with cwd=\"D:\\Forbmax User Data\\waqar sahi\\Dataset\\WhisperCustomDataset\\Geo3\", creationflags=134217728, input=\n"
     ]
    },
    {
     "name": "stdout",
     "output_type": "stream",
     "text": [
      "Extracted Geo2.rar to D:\\Forbmax User Data\\waqar sahi\\Dataset\\WhisperCustomDataset\\Geo2\n"
     ]
    },
    {
     "name": "stderr",
     "output_type": "stream",
     "text": [
      "INFO patool: ... D:\\Forbmax User Data\\waqar sahi\\Dataset\\whisperCustomZip\\Geo3.rar extracted to `D:\\Forbmax User Data\\waqar sahi\\Dataset\\WhisperCustomDataset\\Geo3'.\n",
      "INFO patool: Extracting D:\\Forbmax User Data\\waqar sahi\\Dataset\\whisperCustomZip\\Geo4.rar ...\n",
      "INFO patool: ... creating output directory `D:\\Forbmax User Data\\waqar sahi\\Dataset\\WhisperCustomDataset\\Geo4'.\n",
      "INFO patool: running \"C:\\Program Files\\WinRAR\\rar.EXE\" x -- \"D:\\Forbmax User Data\\waqar sahi\\Dataset\\whisperCustomZip\\Geo4.rar\"\n",
      "INFO patool:     with cwd=\"D:\\Forbmax User Data\\waqar sahi\\Dataset\\WhisperCustomDataset\\Geo4\", creationflags=134217728, input=\n"
     ]
    },
    {
     "name": "stdout",
     "output_type": "stream",
     "text": [
      "Extracted Geo3.rar to D:\\Forbmax User Data\\waqar sahi\\Dataset\\WhisperCustomDataset\\Geo3\n"
     ]
    },
    {
     "name": "stderr",
     "output_type": "stream",
     "text": [
      "INFO patool: ... D:\\Forbmax User Data\\waqar sahi\\Dataset\\whisperCustomZip\\Geo4.rar extracted to `D:\\Forbmax User Data\\waqar sahi\\Dataset\\WhisperCustomDataset\\Geo4'.\n",
      "INFO patool: Extracting D:\\Forbmax User Data\\waqar sahi\\Dataset\\whisperCustomZip\\Geo5.rar ...\n",
      "INFO patool: ... creating output directory `D:\\Forbmax User Data\\waqar sahi\\Dataset\\WhisperCustomDataset\\Geo5'.\n",
      "INFO patool: running \"C:\\Program Files\\WinRAR\\rar.EXE\" x -- \"D:\\Forbmax User Data\\waqar sahi\\Dataset\\whisperCustomZip\\Geo5.rar\"\n",
      "INFO patool:     with cwd=\"D:\\Forbmax User Data\\waqar sahi\\Dataset\\WhisperCustomDataset\\Geo5\", creationflags=134217728, input=\n"
     ]
    },
    {
     "name": "stdout",
     "output_type": "stream",
     "text": [
      "Extracted Geo4.rar to D:\\Forbmax User Data\\waqar sahi\\Dataset\\WhisperCustomDataset\\Geo4\n"
     ]
    },
    {
     "name": "stderr",
     "output_type": "stream",
     "text": [
      "INFO patool: ... D:\\Forbmax User Data\\waqar sahi\\Dataset\\whisperCustomZip\\Geo5.rar extracted to `D:\\Forbmax User Data\\waqar sahi\\Dataset\\WhisperCustomDataset\\Geo5'.\n",
      "INFO patool: Extracting D:\\Forbmax User Data\\waqar sahi\\Dataset\\whisperCustomZip\\Geo6.rar ...\n",
      "INFO patool: ... creating output directory `D:\\Forbmax User Data\\waqar sahi\\Dataset\\WhisperCustomDataset\\Geo6'.\n",
      "INFO patool: running \"C:\\Program Files\\WinRAR\\rar.EXE\" x -- \"D:\\Forbmax User Data\\waqar sahi\\Dataset\\whisperCustomZip\\Geo6.rar\"\n",
      "INFO patool:     with cwd=\"D:\\Forbmax User Data\\waqar sahi\\Dataset\\WhisperCustomDataset\\Geo6\", creationflags=134217728, input=\n"
     ]
    },
    {
     "name": "stdout",
     "output_type": "stream",
     "text": [
      "Extracted Geo5.rar to D:\\Forbmax User Data\\waqar sahi\\Dataset\\WhisperCustomDataset\\Geo5\n"
     ]
    },
    {
     "name": "stderr",
     "output_type": "stream",
     "text": [
      "INFO patool: ... D:\\Forbmax User Data\\waqar sahi\\Dataset\\whisperCustomZip\\Geo6.rar extracted to `D:\\Forbmax User Data\\waqar sahi\\Dataset\\WhisperCustomDataset\\Geo6'.\n",
      "INFO patool: Extracting D:\\Forbmax User Data\\waqar sahi\\Dataset\\whisperCustomZip\\Geo7.rar ...\n",
      "INFO patool: ... creating output directory `D:\\Forbmax User Data\\waqar sahi\\Dataset\\WhisperCustomDataset\\Geo7'.\n",
      "INFO patool: running \"C:\\Program Files\\WinRAR\\rar.EXE\" x -- \"D:\\Forbmax User Data\\waqar sahi\\Dataset\\whisperCustomZip\\Geo7.rar\"\n",
      "INFO patool:     with cwd=\"D:\\Forbmax User Data\\waqar sahi\\Dataset\\WhisperCustomDataset\\Geo7\", creationflags=134217728, input=\n"
     ]
    },
    {
     "name": "stdout",
     "output_type": "stream",
     "text": [
      "Extracted Geo6.rar to D:\\Forbmax User Data\\waqar sahi\\Dataset\\WhisperCustomDataset\\Geo6\n"
     ]
    },
    {
     "name": "stderr",
     "output_type": "stream",
     "text": [
      "INFO patool: ... D:\\Forbmax User Data\\waqar sahi\\Dataset\\whisperCustomZip\\Geo7.rar extracted to `D:\\Forbmax User Data\\waqar sahi\\Dataset\\WhisperCustomDataset\\Geo7'.\n",
      "INFO patool: Extracting D:\\Forbmax User Data\\waqar sahi\\Dataset\\whisperCustomZip\\Geo8.rar ...\n",
      "INFO patool: ... creating output directory `D:\\Forbmax User Data\\waqar sahi\\Dataset\\WhisperCustomDataset\\Geo8'.\n",
      "INFO patool: running \"C:\\Program Files\\WinRAR\\rar.EXE\" x -- \"D:\\Forbmax User Data\\waqar sahi\\Dataset\\whisperCustomZip\\Geo8.rar\"\n",
      "INFO patool:     with cwd=\"D:\\Forbmax User Data\\waqar sahi\\Dataset\\WhisperCustomDataset\\Geo8\", creationflags=134217728, input=\n"
     ]
    },
    {
     "name": "stdout",
     "output_type": "stream",
     "text": [
      "Extracted Geo7.rar to D:\\Forbmax User Data\\waqar sahi\\Dataset\\WhisperCustomDataset\\Geo7\n"
     ]
    },
    {
     "name": "stderr",
     "output_type": "stream",
     "text": [
      "INFO patool: ... D:\\Forbmax User Data\\waqar sahi\\Dataset\\whisperCustomZip\\Geo8.rar extracted to `D:\\Forbmax User Data\\waqar sahi\\Dataset\\WhisperCustomDataset\\Geo8'.\n",
      "INFO patool: Extracting D:\\Forbmax User Data\\waqar sahi\\Dataset\\whisperCustomZip\\Geo9.rar ...\n",
      "INFO patool: ... creating output directory `D:\\Forbmax User Data\\waqar sahi\\Dataset\\WhisperCustomDataset\\Geo9'.\n",
      "INFO patool: running \"C:\\Program Files\\WinRAR\\rar.EXE\" x -- \"D:\\Forbmax User Data\\waqar sahi\\Dataset\\whisperCustomZip\\Geo9.rar\"\n",
      "INFO patool:     with cwd=\"D:\\Forbmax User Data\\waqar sahi\\Dataset\\WhisperCustomDataset\\Geo9\", creationflags=134217728, input=\n"
     ]
    },
    {
     "name": "stdout",
     "output_type": "stream",
     "text": [
      "Extracted Geo8.rar to D:\\Forbmax User Data\\waqar sahi\\Dataset\\WhisperCustomDataset\\Geo8\n"
     ]
    },
    {
     "name": "stderr",
     "output_type": "stream",
     "text": [
      "INFO patool: ... D:\\Forbmax User Data\\waqar sahi\\Dataset\\whisperCustomZip\\Geo9.rar extracted to `D:\\Forbmax User Data\\waqar sahi\\Dataset\\WhisperCustomDataset\\Geo9'.\n",
      "INFO patool: Extracting D:\\Forbmax User Data\\waqar sahi\\Dataset\\whisperCustomZip\\video.rar ...\n",
      "INFO patool: ... creating output directory `D:\\Forbmax User Data\\waqar sahi\\Dataset\\WhisperCustomDataset\\video'.\n",
      "INFO patool: running \"C:\\Program Files\\WinRAR\\rar.EXE\" x -- \"D:\\Forbmax User Data\\waqar sahi\\Dataset\\whisperCustomZip\\video.rar\"\n",
      "INFO patool:     with cwd=\"D:\\Forbmax User Data\\waqar sahi\\Dataset\\WhisperCustomDataset\\video\", creationflags=134217728, input=\n"
     ]
    },
    {
     "name": "stdout",
     "output_type": "stream",
     "text": [
      "Extracted Geo9.rar to D:\\Forbmax User Data\\waqar sahi\\Dataset\\WhisperCustomDataset\\Geo9\n"
     ]
    },
    {
     "name": "stderr",
     "output_type": "stream",
     "text": [
      "INFO patool: ... D:\\Forbmax User Data\\waqar sahi\\Dataset\\whisperCustomZip\\video.rar extracted to `D:\\Forbmax User Data\\waqar sahi\\Dataset\\WhisperCustomDataset\\video'.\n"
     ]
    },
    {
     "name": "stdout",
     "output_type": "stream",
     "text": [
      "Extracted video.rar to D:\\Forbmax User Data\\waqar sahi\\Dataset\\WhisperCustomDataset\\video\n",
      "Extraction complete.\n"
     ]
    }
   ],
   "source": [
    "if __name__ == \"__main__\":\n",
    "    input_path = r\"D:\\Forbmax User Data\\waqar sahi\\Dataset\\whisperCustomZip\"\n",
    "    output_folder =r\"D:\\Forbmax User Data\\waqar sahi\\Dataset\\WhisperCustomDataset\"\n",
    "\n",
    "    if not os.path.exists(output_folder):\n",
    "        os.makedirs(output_folder)\n",
    "\n",
    "    extract_zip(input_path, output_folder)\n",
    "    extract_rar(input_path, output_folder)\n",
    "\n",
    "    print(\"Extraction complete.\")\n"
   ]
  },
  {
   "cell_type": "code",
   "execution_count": 5,
   "id": "2ba97548",
   "metadata": {},
   "outputs": [
    {
     "data": {
      "text/plain": [
       "181"
      ]
     },
     "execution_count": 5,
     "metadata": {},
     "output_type": "execute_result"
    }
   ],
   "source": [
    "17+164"
   ]
  },
  {
   "cell_type": "code",
   "execution_count": null,
   "id": "cc493d31",
   "metadata": {},
   "outputs": [],
   "source": []
  }
 ],
 "metadata": {
  "kernelspec": {
   "display_name": "Python 3 (ipykernel)",
   "language": "python",
   "name": "python3"
  },
  "language_info": {
   "codemirror_mode": {
    "name": "ipython",
    "version": 3
   },
   "file_extension": ".py",
   "mimetype": "text/x-python",
   "name": "python",
   "nbconvert_exporter": "python",
   "pygments_lexer": "ipython3",
   "version": "3.11.3"
  }
 },
 "nbformat": 4,
 "nbformat_minor": 5
}
